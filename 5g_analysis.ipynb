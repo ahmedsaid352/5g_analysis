{
 "cells": [
  {
   "cell_type": "code",
   "execution_count": 1,
   "id": "badc34af",
   "metadata": {},
   "outputs": [],
   "source": [
    "import pandas as pd\n",
    "import numpy as np\n",
    "import matplotlib.pyplot as plt"
   ]
  },
  {
   "cell_type": "code",
   "execution_count": 49,
   "id": "eb4e8303",
   "metadata": {},
   "outputs": [
    {
     "data": {
      "text/html": [
       "<div>\n",
       "<style scoped>\n",
       "    .dataframe tbody tr th:only-of-type {\n",
       "        vertical-align: middle;\n",
       "    }\n",
       "\n",
       "    .dataframe tbody tr th {\n",
       "        vertical-align: top;\n",
       "    }\n",
       "\n",
       "    .dataframe thead th {\n",
       "        text-align: right;\n",
       "    }\n",
       "</style>\n",
       "<table border=\"1\" class=\"dataframe\">\n",
       "  <thead>\n",
       "    <tr style=\"text-align: right;\">\n",
       "      <th></th>\n",
       "      <th>question</th>\n",
       "      <th>A</th>\n",
       "      <th>B</th>\n",
       "      <th>C</th>\n",
       "      <th>D</th>\n",
       "      <th>Answer</th>\n",
       "    </tr>\n",
       "  </thead>\n",
       "  <tbody>\n",
       "    <tr>\n",
       "      <th>0</th>\n",
       "      <td>What is the Uplink frequency in a GSM system?</td>\n",
       "      <td>935-960MHz</td>\n",
       "      <td>890-915MHz</td>\n",
       "      <td>940-956MHz</td>\n",
       "      <td>810-826MHz</td>\n",
       "      <td>b</td>\n",
       "    </tr>\n",
       "    <tr>\n",
       "      <th>1</th>\n",
       "      <td>What is the Downlink frequency in a GSM system?</td>\n",
       "      <td>935-960MHz</td>\n",
       "      <td>890-915MHz</td>\n",
       "      <td>940-956MHz</td>\n",
       "      <td>810-826MHz</td>\n",
       "      <td>a</td>\n",
       "    </tr>\n",
       "    <tr>\n",
       "      <th>2</th>\n",
       "      <td>What is an Uplink in a Cellular network?</td>\n",
       "      <td>Sending of data from Base Station to Mobile.</td>\n",
       "      <td>Sending of data from Mobile to the Base Station</td>\n",
       "      <td>Sending of data from Base Station to Base Stat...</td>\n",
       "      <td>None of the above</td>\n",
       "      <td>b</td>\n",
       "    </tr>\n",
       "    <tr>\n",
       "      <th>3</th>\n",
       "      <td>What is a Downlink in a GSM network?</td>\n",
       "      <td>Sending of data from Mobile to the Base Station.</td>\n",
       "      <td>Sending of data from Base station to the Mobile</td>\n",
       "      <td>Sending of data from Base Station Controller t...</td>\n",
       "      <td>None of the above</td>\n",
       "      <td>b</td>\n",
       "    </tr>\n",
       "    <tr>\n",
       "      <th>4</th>\n",
       "      <td>What is the frequency band of a DCS - Digital...</td>\n",
       "      <td>1800 Band (1710-1785, 1805-1880MHz)</td>\n",
       "      <td>900 Band ( 890-915, 935-960MHz)</td>\n",
       "      <td>850 Band (824-849, 869-894MHz)</td>\n",
       "      <td>None of the above</td>\n",
       "      <td>a</td>\n",
       "    </tr>\n",
       "  </tbody>\n",
       "</table>\n",
       "</div>"
      ],
      "text/plain": [
       "                                            question  \\\n",
       "0      What is the Uplink frequency in a GSM system?   \n",
       "1    What is the Downlink frequency in a GSM system?   \n",
       "2           What is an Uplink in a Cellular network?   \n",
       "3               What is a Downlink in a GSM network?   \n",
       "4   What is the frequency band of a DCS - Digital...   \n",
       "\n",
       "                                                  A  \\\n",
       "0                                        935-960MHz   \n",
       "1                                        935-960MHz   \n",
       "2      Sending of data from Base Station to Mobile.   \n",
       "3  Sending of data from Mobile to the Base Station.   \n",
       "4               1800 Band (1710-1785, 1805-1880MHz)   \n",
       "\n",
       "                                                 B  \\\n",
       "0                                       890-915MHz   \n",
       "1                                       890-915MHz   \n",
       "2  Sending of data from Mobile to the Base Station   \n",
       "3  Sending of data from Base station to the Mobile   \n",
       "4                  900 Band ( 890-915, 935-960MHz)   \n",
       "\n",
       "                                                   C                  D Answer  \n",
       "0                                         940-956MHz         810-826MHz      b  \n",
       "1                                         940-956MHz         810-826MHz      a  \n",
       "2  Sending of data from Base Station to Base Stat...  None of the above      b  \n",
       "3  Sending of data from Base Station Controller t...  None of the above      b  \n",
       "4                     850 Band (824-849, 869-894MHz)  None of the above      a  "
      ]
     },
     "execution_count": 49,
     "metadata": {},
     "output_type": "execute_result"
    }
   ],
   "source": [
    "df = pd.read_excel('5g_examtray.xlsx')\n",
    "df.head()"
   ]
  },
  {
   "cell_type": "code",
   "execution_count": null,
   "id": "c6781ff2",
   "metadata": {},
   "outputs": [],
   "source": []
  },
  {
   "cell_type": "markdown",
   "id": "4129c524",
   "metadata": {},
   "source": [
    "## deployed"
   ]
  },
  {
   "cell_type": "code",
   "execution_count": 5,
   "id": "d67d5530",
   "metadata": {},
   "outputs": [],
   "source": [
    "def generate_html(df,file_name):\n",
    "    with open(r'html{}.txt'.format(file_name), 'w') as fp:\n",
    "        for i in range(len(df)):\n",
    "            q_n = i+1\n",
    "            q = df.iloc[i].question\n",
    "            a = df.iloc[i].A\n",
    "            b = df.iloc[i].B\n",
    "            c = df.iloc[i].C\n",
    "            d = df.iloc[i].D\n",
    "            ans = df.iloc[i].Answer\n",
    "            a_val,b_val,c_val,d_val = 0,0,0,0\n",
    "            if ans == 'a':\n",
    "                a_val = 1\n",
    "            elif ans == 'b':\n",
    "                b_val = 1\n",
    "            elif ans == 'c':\n",
    "                c_val = 1\n",
    "            elif ans == 'd':\n",
    "                d_val = 1\n",
    "            complete_question = f'<div class=\"question\">\\n\\t<p>{q_n}.{q}</p>\\n\\t<p><input type=\"radio\" name=\"q{q_n}\" value=\"{a_val}\">A.{a}</p>\\n\\t<p><input type=\"radio\" name=\"q{q_n}\" value=\"{b_val}\">B.{b}</p>\\n\\t<p><input type=\"radio\" name=\"q{q_n}\" value=\"{c_val}\">C.{c}</p>\\n\\t<p><input type=\"radio\" name=\"q{q_n}\" value=\"{d_val}\">D.{d}</p>\\n</div>'\n",
    "            fp.write(\"%s\\n\" % complete_question)"
   ]
  },
  {
   "cell_type": "code",
   "execution_count": 21,
   "id": "a7098318",
   "metadata": {},
   "outputs": [],
   "source": [
    "all_woeds = list(df['question'])"
   ]
  },
  {
   "cell_type": "code",
   "execution_count": 25,
   "id": "a304c9b5",
   "metadata": {},
   "outputs": [],
   "source": [
    "all_words =[]\n",
    "for q in all_woeds:\n",
    "    q_list =q.split(' ')\n",
    "    for word in q_list:\n",
    "        all_words.append(word)"
   ]
  },
  {
   "cell_type": "code",
   "execution_count": 26,
   "id": "e1dc5e1c",
   "metadata": {},
   "outputs": [
    {
     "name": "stdout",
     "output_type": "stream",
     "text": [
      "251 2835\n"
     ]
    }
   ],
   "source": [
    "print(len(all_woeds),len(all_words))"
   ]
  },
  {
   "cell_type": "code",
   "execution_count": 27,
   "id": "7bdc2963",
   "metadata": {},
   "outputs": [
    {
     "data": {
      "text/html": [
       "<div>\n",
       "<style scoped>\n",
       "    .dataframe tbody tr th:only-of-type {\n",
       "        vertical-align: middle;\n",
       "    }\n",
       "\n",
       "    .dataframe tbody tr th {\n",
       "        vertical-align: top;\n",
       "    }\n",
       "\n",
       "    .dataframe thead th {\n",
       "        text-align: right;\n",
       "    }\n",
       "</style>\n",
       "<table border=\"1\" class=\"dataframe\">\n",
       "  <thead>\n",
       "    <tr style=\"text-align: right;\">\n",
       "      <th></th>\n",
       "      <th>word</th>\n",
       "    </tr>\n",
       "  </thead>\n",
       "  <tbody>\n",
       "    <tr>\n",
       "      <th>0</th>\n",
       "      <td>1g</td>\n",
       "    </tr>\n",
       "    <tr>\n",
       "      <th>1</th>\n",
       "      <td>or</td>\n",
       "    </tr>\n",
       "    <tr>\n",
       "      <th>2</th>\n",
       "      <td>first</td>\n",
       "    </tr>\n",
       "    <tr>\n",
       "      <th>3</th>\n",
       "      <td>generation</td>\n",
       "    </tr>\n",
       "    <tr>\n",
       "      <th>4</th>\n",
       "      <td>mobile</td>\n",
       "    </tr>\n",
       "  </tbody>\n",
       "</table>\n",
       "</div>"
      ],
      "text/plain": [
       "         word\n",
       "0          1g\n",
       "1          or\n",
       "2       first\n",
       "3  generation\n",
       "4      mobile"
      ]
     },
     "execution_count": 27,
     "metadata": {},
     "output_type": "execute_result"
    }
   ],
   "source": [
    "info ={\n",
    "    \"word\":all_words\n",
    "}\n",
    "ndf = pd.DataFrame(info)\n",
    "ndf.head()"
   ]
  },
  {
   "cell_type": "code",
   "execution_count": 32,
   "id": "6590793a",
   "metadata": {},
   "outputs": [],
   "source": [
    "freq = ndf.word.value_counts().to_frame()"
   ]
  },
  {
   "cell_type": "code",
   "execution_count": 37,
   "id": "b3a971f7",
   "metadata": {},
   "outputs": [
    {
     "data": {
      "text/html": [
       "<div>\n",
       "<style scoped>\n",
       "    .dataframe tbody tr th:only-of-type {\n",
       "        vertical-align: middle;\n",
       "    }\n",
       "\n",
       "    .dataframe tbody tr th {\n",
       "        vertical-align: top;\n",
       "    }\n",
       "\n",
       "    .dataframe thead th {\n",
       "        text-align: right;\n",
       "    }\n",
       "</style>\n",
       "<table border=\"1\" class=\"dataframe\">\n",
       "  <thead>\n",
       "    <tr style=\"text-align: right;\">\n",
       "      <th></th>\n",
       "      <th>word</th>\n",
       "    </tr>\n",
       "  </thead>\n",
       "  <tbody>\n",
       "    <tr>\n",
       "      <th>a</th>\n",
       "      <td>164</td>\n",
       "    </tr>\n",
       "    <tr>\n",
       "      <th>is</th>\n",
       "      <td>153</td>\n",
       "    </tr>\n",
       "    <tr>\n",
       "      <th>the</th>\n",
       "      <td>149</td>\n",
       "    </tr>\n",
       "    <tr>\n",
       "      <th>what</th>\n",
       "      <td>106</td>\n",
       "    </tr>\n",
       "    <tr>\n",
       "      <th>in</th>\n",
       "      <td>96</td>\n",
       "    </tr>\n",
       "    <tr>\n",
       "      <th>of</th>\n",
       "      <td>86</td>\n",
       "    </tr>\n",
       "    <tr>\n",
       "      <th>gsm</th>\n",
       "      <td>64</td>\n",
       "    </tr>\n",
       "    <tr>\n",
       "      <th>and</th>\n",
       "      <td>61</td>\n",
       "    </tr>\n",
       "    <tr>\n",
       "      <th>to</th>\n",
       "      <td>41</td>\n",
       "    </tr>\n",
       "    <tr>\n",
       "      <th>between</th>\n",
       "      <td>41</td>\n",
       "    </tr>\n",
       "    <tr>\n",
       "      <th>which</th>\n",
       "      <td>38</td>\n",
       "    </tr>\n",
       "    <tr>\n",
       "      <th>interface</th>\n",
       "      <td>36</td>\n",
       "    </tr>\n",
       "    <tr>\n",
       "      <th>gprs</th>\n",
       "      <td>36</td>\n",
       "    </tr>\n",
       "    <tr>\n",
       "      <th>or</th>\n",
       "      <td>34</td>\n",
       "    </tr>\n",
       "    <tr>\n",
       "      <th>are</th>\n",
       "      <td>34</td>\n",
       "    </tr>\n",
       "    <tr>\n",
       "      <th>network</th>\n",
       "      <td>31</td>\n",
       "    </tr>\n",
       "    <tr>\n",
       "      <th>network?</th>\n",
       "      <td>27</td>\n",
       "    </tr>\n",
       "    <tr>\n",
       "      <th>mobile</th>\n",
       "      <td>23</td>\n",
       "    </tr>\n",
       "    <tr>\n",
       "      <th>by</th>\n",
       "      <td>22</td>\n",
       "    </tr>\n",
       "    <tr>\n",
       "      <th>that</th>\n",
       "      <td>20</td>\n",
       "    </tr>\n",
       "  </tbody>\n",
       "</table>\n",
       "</div>"
      ],
      "text/plain": [
       "           word\n",
       "a           164\n",
       "is          153\n",
       "the         149\n",
       "what        106\n",
       "in           96\n",
       "of           86\n",
       "gsm          64\n",
       "and          61\n",
       "to           41\n",
       "between      41\n",
       "which        38\n",
       "interface    36\n",
       "gprs         36\n",
       "or           34\n",
       "are          34\n",
       "network      31\n",
       "network?     27\n",
       "mobile       23\n",
       "by           22\n",
       "that         20"
      ]
     },
     "execution_count": 37,
     "metadata": {},
     "output_type": "execute_result"
    }
   ],
   "source": [
    "freq.head(20)"
   ]
  },
  {
   "cell_type": "code",
   "execution_count": 41,
   "id": "25ae483f",
   "metadata": {},
   "outputs": [],
   "source": [
    "gsm = df[df['question'].str.contains('gsm')]"
   ]
  },
  {
   "cell_type": "code",
   "execution_count": 47,
   "id": "835f4fd9",
   "metadata": {},
   "outputs": [],
   "source": [
    "def generate_txt(df,file_name):\n",
    "    with open(r'{}.txt'.format(file_name), 'w') as fp:\n",
    "        for i in range(len(df)):\n",
    "            q_n = i+1\n",
    "            q = df.iloc[i].question\n",
    "            a = df.iloc[i].A\n",
    "            b = df.iloc[i].B\n",
    "            c = df.iloc[i].C\n",
    "            d = df.iloc[i].D\n",
    "            ans = df.iloc[i].Answer\n",
    "            a_val,b_val,c_val,d_val = 0,0,0,0\n",
    "            if ans == 'a':\n",
    "                a_val = 1\n",
    "            elif ans == 'b':\n",
    "                b_val = 1\n",
    "            elif ans == 'c':\n",
    "                c_val = 1\n",
    "            elif ans == 'd':\n",
    "                d_val = 1\n",
    "            complete_question = f'{q_n}.{q}\\n A.{a}\\n B.{b}\\n C.{c}\\n D.{d}\\n Answer:{ans}\\n _____________________________________________ \\n '\n",
    "            fp.write(\"%s\\n\" % complete_question)"
   ]
  },
  {
   "cell_type": "code",
   "execution_count": 42,
   "id": "d8642751",
   "metadata": {},
   "outputs": [],
   "source": [
    "generate_txt(gsm,'gsm')"
   ]
  },
  {
   "cell_type": "code",
   "execution_count": 22,
   "id": "ce298145",
   "metadata": {},
   "outputs": [],
   "source": [
    "generate_html(df,'examtray')"
   ]
  },
  {
   "cell_type": "code",
   "execution_count": 23,
   "id": "d4bd994f",
   "metadata": {},
   "outputs": [
    {
     "data": {
      "text/plain": [
       "<AxesSubplot:>"
      ]
     },
     "execution_count": 23,
     "metadata": {},
     "output_type": "execute_result"
    },
    {
     "data": {
      "image/png": "[encoded data removed]",
      "text/plain": [
       "<Figure size 432x288 with 1 Axes>"
      ]
     },
     "metadata": {
      "needs_background": "light"
     },
     "output_type": "display_data"
    }
   ],
   "source": [
    "df[df['D'].str.contains('None')].Answer.hist()"
   ]
  },
  {
   "cell_type": "code",
   "execution_count": 24,
   "id": "139b2788",
   "metadata": {},
   "outputs": [
    {
     "data": {
      "text/html": [
       "<div>\n",
       "<style scoped>\n",
       "    .dataframe tbody tr th:only-of-type {\n",
       "        vertical-align: middle;\n",
       "    }\n",
       "\n",
       "    .dataframe tbody tr th {\n",
       "        vertical-align: top;\n",
       "    }\n",
       "\n",
       "    .dataframe thead th {\n",
       "        text-align: right;\n",
       "    }\n",
       "</style>\n",
       "<table border=\"1\" class=\"dataframe\">\n",
       "  <thead>\n",
       "    <tr style=\"text-align: right;\">\n",
       "      <th></th>\n",
       "      <th>question</th>\n",
       "      <th>A</th>\n",
       "      <th>B</th>\n",
       "      <th>C</th>\n",
       "      <th>D</th>\n",
       "      <th>Answer</th>\n",
       "    </tr>\n",
       "  </thead>\n",
       "  <tbody>\n",
       "    <tr>\n",
       "      <th>120</th>\n",
       "      <td>In a GSM-1800 Band, what is the duplex spacin...</td>\n",
       "      <td>75MHz</td>\n",
       "      <td>85MHz</td>\n",
       "      <td>95MHz</td>\n",
       "      <td>None</td>\n",
       "      <td>d</td>\n",
       "    </tr>\n",
       "    <tr>\n",
       "      <th>140</th>\n",
       "      <td>Choose a Common Control Channel below.</td>\n",
       "      <td>PCH (paging Channel)</td>\n",
       "      <td>AGCH (Access Grant Channel)</td>\n",
       "      <td>RACH (Random Access Channel)</td>\n",
       "      <td>None</td>\n",
       "      <td>d</td>\n",
       "    </tr>\n",
       "    <tr>\n",
       "      <th>241</th>\n",
       "      <td>What is the modulation technique used by WCDM...</td>\n",
       "      <td>Amplitude Modulation</td>\n",
       "      <td>Separate Spectrum Modulation</td>\n",
       "      <td>Spread Spectrum Modulation</td>\n",
       "      <td>None</td>\n",
       "      <td>d</td>\n",
       "    </tr>\n",
       "  </tbody>\n",
       "</table>\n",
       "</div>"
      ],
      "text/plain": [
       "                                              question                     A  \\\n",
       "120   In a GSM-1800 Band, what is the duplex spacin...                 75MHz   \n",
       "140             Choose a Common Control Channel below.  PCH (paging Channel)   \n",
       "241   What is the modulation technique used by WCDM...  Amplitude Modulation   \n",
       "\n",
       "                                B                             C     D Answer  \n",
       "120                         85MHz                         95MHz  None      d  \n",
       "140   AGCH (Access Grant Channel)  RACH (Random Access Channel)  None      d  \n",
       "241  Separate Spectrum Modulation    Spread Spectrum Modulation  None      d  "
      ]
     },
     "execution_count": 24,
     "metadata": {},
     "output_type": "execute_result"
    }
   ],
   "source": [
    "none = df[df['D'].str.contains('None')]\n",
    "none[none['Answer'] == \"d\"]"
   ]
  },
  {
   "cell_type": "code",
   "execution_count": 25,
   "id": "73b20aae",
   "metadata": {},
   "outputs": [
    {
     "data": {
      "text/plain": [
       "<AxesSubplot:>"
      ]
     },
     "execution_count": 25,
     "metadata": {},
     "output_type": "execute_result"
    },
    {
     "data": {
      "image/png": "[encoded data removed]",
      "text/plain": [
       "<Figure size 432x288 with 1 Axes>"
      ]
     },
     "metadata": {
      "needs_background": "light"
     },
     "output_type": "display_data"
    }
   ],
   "source": [
    "df[df['D'].str.contains('All')].Answer.hist()"
   ]
  },
  {
   "cell_type": "code",
   "execution_count": 27,
   "id": "ebab8920",
   "metadata": {},
   "outputs": [
    {
     "data": {
      "text/html": [
       "<div>\n",
       "<style scoped>\n",
       "    .dataframe tbody tr th:only-of-type {\n",
       "        vertical-align: middle;\n",
       "    }\n",
       "\n",
       "    .dataframe tbody tr th {\n",
       "        vertical-align: top;\n",
       "    }\n",
       "\n",
       "    .dataframe thead th {\n",
       "        text-align: right;\n",
       "    }\n",
       "</style>\n",
       "<table border=\"1\" class=\"dataframe\">\n",
       "  <thead>\n",
       "    <tr style=\"text-align: right;\">\n",
       "      <th></th>\n",
       "      <th>question</th>\n",
       "      <th>A</th>\n",
       "      <th>B</th>\n",
       "      <th>C</th>\n",
       "      <th>D</th>\n",
       "      <th>Answer</th>\n",
       "    </tr>\n",
       "  </thead>\n",
       "  <tbody>\n",
       "    <tr>\n",
       "      <th>300</th>\n",
       "      <td>Which among the following is a Static Database?</td>\n",
       "      <td>VLR (Visitor Location Register)</td>\n",
       "      <td>HLR (Home Location Register)</td>\n",
       "      <td>AuC (Authentication Center)</td>\n",
       "      <td>All</td>\n",
       "      <td>b</td>\n",
       "    </tr>\n",
       "    <tr>\n",
       "      <th>464</th>\n",
       "      <td>What is the other name for GAN network?</td>\n",
       "      <td>Virtual Network Access (VMA)</td>\n",
       "      <td>Licensed Mobile Access (LMA)</td>\n",
       "      <td>Unlicensed Mobile Access (UMA)</td>\n",
       "      <td>All</td>\n",
       "      <td>c</td>\n",
       "    </tr>\n",
       "    <tr>\n",
       "      <th>476</th>\n",
       "      <td>To support VoWi-Fi, mobile phones have to con...</td>\n",
       "      <td>3GPP R8</td>\n",
       "      <td>3GPP R9</td>\n",
       "      <td>3GPP R10</td>\n",
       "      <td>All</td>\n",
       "      <td>c</td>\n",
       "    </tr>\n",
       "  </tbody>\n",
       "</table>\n",
       "</div>"
      ],
      "text/plain": [
       "                                              question  \\\n",
       "300    Which among the following is a Static Database?   \n",
       "464            What is the other name for GAN network?   \n",
       "476   To support VoWi-Fi, mobile phones have to con...   \n",
       "\n",
       "                                   A                             B  \\\n",
       "300  VLR (Visitor Location Register)  HLR (Home Location Register)   \n",
       "464     Virtual Network Access (VMA)  Licensed Mobile Access (LMA)   \n",
       "476                          3GPP R8                       3GPP R9   \n",
       "\n",
       "                                  C    D Answer  \n",
       "300     AuC (Authentication Center)  All      b  \n",
       "464  Unlicensed Mobile Access (UMA)  All      c  \n",
       "476                        3GPP R10  All      c  "
      ]
     },
     "execution_count": 27,
     "metadata": {},
     "output_type": "execute_result"
    }
   ],
   "source": [
    "df[df['D'].str.contains('All')].query('Answer != \"d\"')"
   ]
  },
  {
   "cell_type": "code",
   "execution_count": 28,
   "id": "9a7c1dc1",
   "metadata": {},
   "outputs": [
    {
     "data": {
      "text/plain": [
       "<AxesSubplot:>"
      ]
     },
     "execution_count": 28,
     "metadata": {},
     "output_type": "execute_result"
    },
    {
     "data": {
      "image/png": "[encoded data removed]",
      "text/plain": [
       "<Figure size 432x288 with 1 Axes>"
      ]
     },
     "metadata": {
      "needs_background": "light"
     },
     "output_type": "display_data"
    }
   ],
   "source": [
    "df[df['C'].str.contains('Both')].Answer.hist()"
   ]
  },
  {
   "cell_type": "code",
   "execution_count": 29,
   "id": "4a11feae",
   "metadata": {},
   "outputs": [
    {
     "data": {
      "text/html": [
       "<div>\n",
       "<style scoped>\n",
       "    .dataframe tbody tr th:only-of-type {\n",
       "        vertical-align: middle;\n",
       "    }\n",
       "\n",
       "    .dataframe tbody tr th {\n",
       "        vertical-align: top;\n",
       "    }\n",
       "\n",
       "    .dataframe thead th {\n",
       "        text-align: right;\n",
       "    }\n",
       "</style>\n",
       "<table border=\"1\" class=\"dataframe\">\n",
       "  <thead>\n",
       "    <tr style=\"text-align: right;\">\n",
       "      <th></th>\n",
       "      <th>question</th>\n",
       "      <th>A</th>\n",
       "      <th>B</th>\n",
       "      <th>C</th>\n",
       "      <th>D</th>\n",
       "      <th>Answer</th>\n",
       "    </tr>\n",
       "  </thead>\n",
       "  <tbody>\n",
       "    <tr>\n",
       "      <th>59</th>\n",
       "      <td>Between VLR and HLR, which one is used mostly...</td>\n",
       "      <td>VLR</td>\n",
       "      <td>HLR</td>\n",
       "      <td>Both are used equally</td>\n",
       "      <td>None</td>\n",
       "      <td>a</td>\n",
       "    </tr>\n",
       "    <tr>\n",
       "      <th>369</th>\n",
       "      <td>A CDMA2000 1x network offers data services th...</td>\n",
       "      <td>Circuit Switching</td>\n",
       "      <td>Packet Switching</td>\n",
       "      <td>Both Circuit Switching and Packet Switching</td>\n",
       "      <td>None</td>\n",
       "      <td>a</td>\n",
       "    </tr>\n",
       "    <tr>\n",
       "      <th>401</th>\n",
       "      <td>EVDO implements Time Division Multiplexing fo...</td>\n",
       "      <td>Forward Link</td>\n",
       "      <td>Reverse Link</td>\n",
       "      <td>Both Forward and Reverse Links</td>\n",
       "      <td>None</td>\n",
       "      <td>a</td>\n",
       "    </tr>\n",
       "    <tr>\n",
       "      <th>406</th>\n",
       "      <td>A Virtual Soft Handoff in a 1xEVDO system wor...</td>\n",
       "      <td>Forward</td>\n",
       "      <td>Reverse</td>\n",
       "      <td>Both Forward and Reverse</td>\n",
       "      <td>None</td>\n",
       "      <td>a</td>\n",
       "    </tr>\n",
       "    <tr>\n",
       "      <th>469</th>\n",
       "      <td>A GERAN-Only network mode supports ___ network.</td>\n",
       "      <td>Cellular Only</td>\n",
       "      <td>Wi-Fi only</td>\n",
       "      <td>Both Cellular and WiFi</td>\n",
       "      <td>None</td>\n",
       "      <td>a</td>\n",
       "    </tr>\n",
       "  </tbody>\n",
       "</table>\n",
       "</div>"
      ],
      "text/plain": [
       "                                              question                  A  \\\n",
       "59    Between VLR and HLR, which one is used mostly...                VLR   \n",
       "369   A CDMA2000 1x network offers data services th...  Circuit Switching   \n",
       "401   EVDO implements Time Division Multiplexing fo...       Forward Link   \n",
       "406   A Virtual Soft Handoff in a 1xEVDO system wor...            Forward   \n",
       "469    A GERAN-Only network mode supports ___ network.      Cellular Only   \n",
       "\n",
       "                    B                                            C     D  \\\n",
       "59                HLR                        Both are used equally  None   \n",
       "369  Packet Switching  Both Circuit Switching and Packet Switching  None   \n",
       "401      Reverse Link               Both Forward and Reverse Links  None   \n",
       "406           Reverse                     Both Forward and Reverse  None   \n",
       "469        Wi-Fi only                       Both Cellular and WiFi  None   \n",
       "\n",
       "    Answer  \n",
       "59       a  \n",
       "369      a  \n",
       "401      a  \n",
       "406      a  \n",
       "469      a  "
      ]
     },
     "execution_count": 29,
     "metadata": {},
     "output_type": "execute_result"
    }
   ],
   "source": [
    "both = df[df['C'].str.contains('Both')]\n",
    "both[both['Answer'] == \"a\"]"
   ]
  },
  {
   "cell_type": "code",
   "execution_count": 20,
   "id": "9058cd57",
   "metadata": {},
   "outputs": [
    {
     "data": {
      "text/plain": [
       "<AxesSubplot:>"
      ]
     },
     "execution_count": 20,
     "metadata": {},
     "output_type": "execute_result"
    },
    {
     "data": {
      "image/png": "[encoded data removed]",
      "text/plain": [
       "<Figure size 432x288 with 1 Axes>"
      ]
     },
     "metadata": {
      "needs_background": "light"
     },
     "output_type": "display_data"
    }
   ],
   "source": [
    "df.Answer.hist() # old df contains 2g only "
   ]
  },
  {
   "cell_type": "code",
   "execution_count": 30,
   "id": "03678edf",
   "metadata": {},
   "outputs": [
    {
     "data": {
      "text/plain": [
       "<AxesSubplot:>"
      ]
     },
     "execution_count": 30,
     "metadata": {},
     "output_type": "execute_result"
    },
    {
     "data": {
      "image/png": "[encoded data removed]",
      "text/plain": [
       "<Figure size 432x288 with 1 Axes>"
      ]
     },
     "metadata": {
      "needs_background": "light"
     },
     "output_type": "display_data"
    }
   ],
   "source": [
    "df.Answer.hist()"
   ]
  },
  {
   "cell_type": "markdown",
   "id": "0be9250d",
   "metadata": {},
   "source": [
    "## analysis for questions doesn't match with previous conditions\n",
    "### (all the above) || (both ) || ( none )"
   ]
  },
  {
   "cell_type": "code",
   "execution_count": 43,
   "id": "b20c72f1",
   "metadata": {},
   "outputs": [],
   "source": [
    "newdf = df"
   ]
  },
  {
   "cell_type": "code",
   "execution_count": 37,
   "id": "c8b94d17",
   "metadata": {},
   "outputs": [],
   "source": [
    "none_index = list(df[df['D'].str.contains('None')].index)\n",
    "both_index = list(df[df['C'].str.contains('Both')].index)\n",
    "all_index = list(df[df['D'].str.contains('All')].index) + both_index + none_index"
   ]
  },
  {
   "cell_type": "code",
   "execution_count": 39,
   "id": "475fd8bf",
   "metadata": {},
   "outputs": [
    {
     "data": {
      "text/plain": [
       "(330, 179, 23)"
      ]
     },
     "execution_count": 39,
     "metadata": {},
     "output_type": "execute_result"
    }
   ],
   "source": [
    "len(all_index),len(none_index),len(both_index)"
   ]
  },
  {
   "cell_type": "code",
   "execution_count": 40,
   "id": "7ffaf5cf",
   "metadata": {},
   "outputs": [
    {
     "data": {
      "text/plain": [
       "308"
      ]
     },
     "execution_count": 40,
     "metadata": {},
     "output_type": "execute_result"
    }
   ],
   "source": [
    "all_index = list(dict.fromkeys(all_index))\n",
    "len(all_index)"
   ]
  },
  {
   "cell_type": "code",
   "execution_count": 45,
   "id": "b61713f3",
   "metadata": {},
   "outputs": [],
   "source": [
    "newdf.drop(index=all_index, axis=0, inplace=True)"
   ]
  },
  {
   "cell_type": "code",
   "execution_count": 46,
   "id": "d6ff7db9",
   "metadata": {},
   "outputs": [
    {
     "data": {
      "text/plain": [
       "<AxesSubplot:>"
      ]
     },
     "execution_count": 46,
     "metadata": {},
     "output_type": "execute_result"
    },
    {
     "data": {
      "image/png": "[encoded data removed]",
      "text/plain": [
       "<Figure size 432x288 with 1 Axes>"
      ]
     },
     "metadata": {
      "needs_background": "light"
     },
     "output_type": "display_data"
    }
   ],
   "source": [
    "newdf.Answer.hist()"
   ]
  },
  {
   "cell_type": "code",
   "execution_count": 50,
   "id": "d068fef6",
   "metadata": {},
   "outputs": [],
   "source": [
    "generate_txt(df,'examtray')"
   ]
  },
  {
   "cell_type": "code",
   "execution_count": null,
   "id": "c0676f8c",
   "metadata": {},
   "outputs": [],
   "source": []
  }
 ],
 "metadata": {
  "kernelspec": {
   "display_name": "Python 3 (ipykernel)",
   "language": "python",
   "name": "python3"
  },
  "language_info": {
   "codemirror_mode": {
    "name": "ipython",
    "version": 3
   },
   "file_extension": ".py",
   "mimetype": "text/x-python",
   "name": "python",
   "nbconvert_exporter": "python",
   "pygments_lexer": "ipython3",
   "version": "3.10.5"
  }
 },
 "nbformat": 4,
 "nbformat_minor": 5
}
